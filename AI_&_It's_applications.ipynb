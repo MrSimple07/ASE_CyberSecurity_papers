{
  "nbformat": 4,
  "nbformat_minor": 0,
  "metadata": {
    "colab": {
      "provenance": [],
      "authorship_tag": "ABX9TyNiKxD7A5ZwfALGl+4vWqTs",
      "include_colab_link": true
    },
    "kernelspec": {
      "name": "python3",
      "display_name": "Python 3"
    },
    "language_info": {
      "name": "python"
    }
  },
  "cells": [
    {
      "cell_type": "markdown",
      "metadata": {
        "id": "view-in-github",
        "colab_type": "text"
      },
      "source": [
        "<a href=\"https://colab.research.google.com/github/MrSimple07/ASE_CyberSecurity_papers/blob/main/AI_%26_It's_applications.ipynb\" target=\"_parent\"><img src=\"https://colab.research.google.com/assets/colab-badge.svg\" alt=\"Open In Colab\"/></a>"
      ]
    },
    {
      "cell_type": "markdown",
      "source": [
        "# 1. Intelligent agents\n",
        "\n",
        "- Definition of intelligent agents and their components (perception, reasoning, action).\n",
        "- Types of agents (simple reflex agents, model-based reflex agents, goal-based agents, utility-based agents).\n",
        "- Examples of intelligent agents in various applications.\n",
        "\n",
        "Intelligent Agent: An intelligent agent is an autonomous entity that observes its environment through sensors, processes the observations to make decisions, and takes actions using actuators to achieve specific goals. They are designed to act rationally to achieve their objectives.\n",
        "\n",
        "Components of Intelligent Agents:\n",
        "1. Perception - Sensors to perceive the environment. This can be anything from a camera captuing visual data to a temperature sensor\n",
        "\n",
        "2. Reasoning - The agent processes the perceived information to make decisions.  This involves algorithms and logic to determine the best course of action based on the current state and goals.\n",
        "\n",
        "3. Actions - The agent uses actuators to take actions within the environment. This can include motors for movement, speakers for communication, or digital signals to control other devices.\n",
        "\n",
        "\n",
        "Types of agents:\n",
        "1. Simple reflex agents:\n",
        "- Definition: These agents select actions based solely on the current percept, ignoring the rest of the percept history. They operate on a condition-action rule (if a condition is met, perform an action).\n",
        "- Example: A thermostat that turns on the heater if the temperature drops below a certain threshold.\n",
        "\n",
        "2. Model- based Reflex agents:\n",
        "- Definition: These agents maintain an internal state that depends on the percept history and reflects some aspects of the environment that are not immediately observable. They use this model to make better decisions.\n",
        "- Example: A robot vacuum that keeps track of areas it has already cleaned and obstacles it has encountered.\n",
        "\n",
        "3. Goal- based agents:\n",
        "- Definition: These agents act to achieve specific goals. They not only consider the current state but also the future states resulting from their actions to reach their goals.\n",
        "- Example: A GPS navigation system that plans a route to a destination, taking into account current traffic conditions.\n",
        "\n",
        "4. Utility- based Agents:\n",
        "- Definition: These agents make decisions based on a utility function that measures the desirability of different states. They aim to maximize their overall utility.\n",
        "- Example: A stock trading bot that evaluates the potential profit and risk of various trades to maximize financial return.\n",
        "\n",
        "\n",
        "Examples of agents:\n",
        "1. Personal assistants like Siri, Alexa\n",
        "2. Autonomous vehicles: Tesla\n",
        "3. Robotics: Industrial, household\n",
        "4. Finance: Algorithmic Trading System"
      ],
      "metadata": {
        "id": "N348F2cYGiFR"
      }
    },
    {
      "cell_type": "markdown",
      "source": [
        "\n",
        "# 2. How a computer can solve problems - Explainable AI, and-or-Tree and Big O notation\n",
        "\n",
        "Computers solve problems by following algorithms, which are step-by-step procedures for calculations, data processing, and automated reasoning tasks. The efficiency, clarity, and correctness of these algorithms are essential for effective problem-solving.\n",
        "\n",
        "Explainable AI - AI systems that provide human- understandable explanations of their decisions and actions. This is crucial for building trust and ensuring accountabbility in AI systems.\n",
        "\n",
        "Techniques for the XAI:\n",
        "- Interpretable models\n",
        "- Post-Hoc explanations: LIME or SHAP\n",
        "- Visualizations: Graph representations of how the models work.\n",
        "\n",
        "AND- OR  tree is a graphical representation used in problem-solving, especially in scenarios involving decision-making and planning. It extends the concept of decision trees to represent both deterministic (AND) and non-deterministic (OR) actions.\n",
        "\n",
        "Structure:\n",
        "- AND nodes:  all the child nodes must be true, fir the parent node to be true\n",
        "- OR nodes: at least one child must be true\n",
        "\n",
        "Applications:\n",
        "\n",
        "AND-OR trees are used in game theory, automated planning, and decision analysis. They help in breaking down complex problems into simpler sub-problems that can be solved independently or in combination.\n",
        "\n",
        "\n",
        "Big Notation means the time and space complexity of the algorithm.\n",
        "\n",
        "Purpose: To compare the efficiency of different algorithms, especially for large inputs.\n",
        "\n",
        "Common Big O Complexities:\n",
        "- O(1) - Constant time\n",
        "- O (logn) - Logarithmic time\n",
        "- O (n) - Linear time - performance grows linearly with input size\n",
        "- O (n logn) - Log - linear time - performance grows in a combination of linear and logarithmic terms.\n",
        "- O(n^2): Quadratic time – performance grows quadratically with input size.\n",
        "- O(2^n): Exponential time – performance doubles with each addition to the input size.\n",
        "- O(n!): Factorial time – performance grows factorially with input size."
      ],
      "metadata": {
        "id": "hAU679y0GOgJ"
      }
    },
    {
      "cell_type": "markdown",
      "source": [
        "\n",
        "# 3. Solving problems by searching\n",
        "\n",
        "Basic Search Strategies, Uniformed search, informed search, adversial search, Constraint satisfaction problems, - Execution of the plan (Saugroboter)\n",
        "\n",
        "1. Breadth - First Search (BFS)\n",
        "- Explores the search space level by level.\n",
        "\n",
        "2. Depth - First Search. Explores as far as possible along each branch before backtracking, using a stack-based approach. Less memory-intensive than BFS but not guaranteed to find the shortest path. Can get stuck in infinite loops if cycles are present.\n",
        "\n",
        "3. Iterative Deepening Search (IDS)\n",
        "- Description: Combines the benefits of BFS and DFS by performing DFS to a limited depth, incrementally increasing the depth limit with each iteration.\n",
        "\n",
        "Uniformed Search (Blind Search) - have no additional information about states beyond that provided in the problem definition.\n",
        "\n",
        "1. BFS\n",
        "2. DFS\n",
        "3. Uniform Cost Search (UCS)\n",
        "\n",
        "Informed Search (Heuristic Search)\n",
        "1. Greedy Best- First Search\n",
        "- Uses a heuristic to expand the node that appears closest to the goal.\n",
        "- Can be faster than uniformed search but not guaranteed to find the optimal path.\n",
        "\n",
        "\n",
        "2. A search\n",
        "- Combines the path cost from the start node and a heuristic estimate of the cost to the goal (f(n) = g(n) + h(n)).\n",
        "\n",
        "- Route Planning in GPS navigation.\n",
        "\n",
        "Adversial Search used in competitive environments where agents have conflicting goals, such as in games."
      ],
      "metadata": {
        "id": "zZlQRS2LGRsH"
      }
    },
    {
      "cell_type": "markdown",
      "source": [
        "# 4. Knowledge- based systems and how to represent knowledge Knowledge Representation"
      ],
      "metadata": {
        "id": "k7V4hI1iGW8E"
      }
    },
    {
      "cell_type": "markdown",
      "source": [
        "\n",
        "# 5. Rules and rule engines\n"
      ],
      "metadata": {
        "id": "lvsT2_cyGeS3"
      }
    },
    {
      "cell_type": "markdown",
      "source": [
        "# 6. Logic - From simple expressions to first- order- logic\n",
        "\n",
        "- a) Logic agents part 1\n",
        "- b) Logic agents part 2\n",
        "- c) First Order Logic\n"
      ],
      "metadata": {
        "id": "fbmIF6_8Gfkc"
      }
    },
    {
      "cell_type": "markdown",
      "source": [
        "\n",
        "# Prolog\n",
        "# 7. Automated Planning\n"
      ],
      "metadata": {
        "id": "rjU9liHlGhaC"
      }
    },
    {
      "cell_type": "markdown",
      "source": [
        "# 8. Uncertain knowledge and reasoning\n",
        "\n"
      ],
      "metadata": {
        "id": "fuu7KYcNGkXi"
      }
    },
    {
      "cell_type": "markdown",
      "source": [
        "# 9. The Dark side of digitalisation and AI"
      ],
      "metadata": {
        "id": "SRtrOt-PGl65"
      }
    },
    {
      "cell_type": "code",
      "execution_count": null,
      "metadata": {
        "id": "NLPtmIcbGdVh"
      },
      "outputs": [],
      "source": []
    }
  ]
}