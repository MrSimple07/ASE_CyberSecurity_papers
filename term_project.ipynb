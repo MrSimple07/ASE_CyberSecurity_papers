{
  "nbformat": 4,
  "nbformat_minor": 0,
  "metadata": {
    "colab": {
      "provenance": [],
      "authorship_tag": "ABX9TyMk2D5I++hDWQMTbOc4RAc8",
      "include_colab_link": true
    },
    "kernelspec": {
      "name": "python3",
      "display_name": "Python 3"
    },
    "language_info": {
      "name": "python"
    }
  },
  "cells": [
    {
      "cell_type": "markdown",
      "metadata": {
        "id": "view-in-github",
        "colab_type": "text"
      },
      "source": [
        "<a href=\"https://colab.research.google.com/github/MrSimple07/ASE_CyberSecurity_papers/blob/main/term_project.ipynb\" target=\"_parent\"><img src=\"https://colab.research.google.com/assets/colab-badge.svg\" alt=\"Open In Colab\"/></a>"
      ]
    },
    {
      "cell_type": "code",
      "execution_count": 16,
      "metadata": {
        "colab": {
          "base_uri": "https://localhost:8080/"
        },
        "id": "4AYyq1qOnkaa",
        "outputId": "a33d4d81-3117-4e54-fedc-cddda2c22e49"
      },
      "outputs": [
        {
          "output_type": "stream",
          "name": "stderr",
          "text": [
            "send: 'ehlo abdurakhimovmuslimbek@yandex.ru\\r\\n'\n",
            "reply: b'250-mail-nwsmtp-smtp-production-canary-88.sas.yp-c.yandex.net\\r\\n'\n",
            "reply: b'250-8BITMIME\\r\\n'\n",
            "reply: b'250-PIPELINING\\r\\n'\n",
            "reply: b'250-SIZE 53477376\\r\\n'\n",
            "reply: b'250-STARTTLS\\r\\n'\n",
            "reply: b'250-AUTH LOGIN PLAIN XOAUTH2\\r\\n'\n",
            "reply: b'250-DSN\\r\\n'\n",
            "reply: b'250 ENHANCEDSTATUSCODES\\r\\n'\n",
            "reply: retcode (250); Msg: b'mail-nwsmtp-smtp-production-canary-88.sas.yp-c.yandex.net\\n8BITMIME\\nPIPELINING\\nSIZE 53477376\\nSTARTTLS\\nAUTH LOGIN PLAIN XOAUTH2\\nDSN\\nENHANCEDSTATUSCODES'\n",
            "send: 'AUTH PLAIN AGFiZHVyYWtoaW1vdm11c2xpbWJla0B5YW5kZXgucnUAbnFvZmdueGFjcHF3enZjbw==\\r\\n'\n",
            "reply: b'235 2.7.0 Authentication successful. 1713644365-OJO0AKMwTuQ0\\r\\n'\n",
            "reply: retcode (235); Msg: b'2.7.0 Authentication successful. 1713644365-OJO0AKMwTuQ0'\n",
            "send: 'mail FROM:<abdurakhimovmuslimbek@yandex.ru> size=127\\r\\n'\n",
            "reply: b'250 2.1.0 <abdurakhimovmuslimbek@yandex.ru> ok 1713644365-OJO0AKMwTuQ0-jP6hqBV2\\r\\n'\n",
            "reply: retcode (250); Msg: b'2.1.0 <abdurakhimovmuslimbek@yandex.ru> ok 1713644365-OJO0AKMwTuQ0-jP6hqBV2'\n",
            "send: 'rcpt TO:<abdurahimov.muslimbek@gmail.com>\\r\\n'\n",
            "reply: b'250 2.1.5 <abdurahimov.muslimbek@gmail.com> recipient ok 1713644366-OJO0AKMwTuQ0-jP6hqBV2\\r\\n'\n",
            "reply: retcode (250); Msg: b'2.1.5 <abdurahimov.muslimbek@gmail.com> recipient ok 1713644366-OJO0AKMwTuQ0-jP6hqBV2'\n",
            "send: 'data\\r\\n'\n",
            "reply: b'354 Start mail input, end with <CRLF>.<CRLF>\\r\\n'\n",
            "reply: retcode (354); Msg: b'Start mail input, end with <CRLF>.<CRLF>'\n",
            "data: (354, b'Start mail input, end with <CRLF>.<CRLF>')\n",
            "send: b'From: abdurakhimovmuslimbek@yandex.ru\\r\\nTo: abdurahimov.muslimbek@gmail.com\\r\\nSubject: Term_project\\r\\n\\r\\nHi , adasdscxvcxv;dlvm;lff\\r\\n.\\r\\n'\n"
          ]
        },
        {
          "output_type": "stream",
          "name": "stdout",
          "text": [
            "Email sent successfully.\n"
          ]
        },
        {
          "output_type": "stream",
          "name": "stderr",
          "text": [
            "reply: b'250 2.0.0 Ok: queued on mail-nwsmtp-smtp-production-canary-88.sas.yp-c.yandex.net 1713644366-OJO0AKMwTuQ0-jP6hqBV2\\r\\n'\n",
            "reply: retcode (250); Msg: b'2.0.0 Ok: queued on mail-nwsmtp-smtp-production-canary-88.sas.yp-c.yandex.net 1713644366-OJO0AKMwTuQ0-jP6hqBV2'\n",
            "data: (250, b'2.0.0 Ok: queued on mail-nwsmtp-smtp-production-canary-88.sas.yp-c.yandex.net 1713644366-OJO0AKMwTuQ0-jP6hqBV2')\n",
            "send: 'quit\\r\\n'\n",
            "reply: b'221 2.0.0 Closing connecton\\r\\n'\n",
            "reply: retcode (221); Msg: b'2.0.0 Closing connecton'\n"
          ]
        }
      ],
      "source": [
        "import smtplib as smtp\n",
        "\n",
        "def send_email():\n",
        "    email = \"abdurakhimovmuslimbek@yandex.ru\"\n",
        "    password = \"nqofgnxacpqwzvco\"\n",
        "    dest_email = 'abdurahimov.muslimbek@gmail.com'\n",
        "    subject = 'Term_project'\n",
        "    email_text = 'Hi , adasdscxvcxv;dlvm;lff'\n",
        "\n",
        "    message = 'From: {}\\nTo: {}\\nSubject: {}\\n\\n{}'.format(email,\n",
        "                                                           dest_email,\n",
        "                                                           subject,\n",
        "                                                           email_text)\n",
        "\n",
        "    try:\n",
        "        server = smtp.SMTP_SSL('smtp.yandex.com')\n",
        "        server.set_debuglevel(1)\n",
        "        server.ehlo(email)\n",
        "        server.login(email, password)\n",
        "        server.auth_plain()\n",
        "        server.sendmail(email, dest_email, message)\n",
        "        print(\"Email sent successfully.\")\n",
        "    except Exception as e:\n",
        "        print(\"An error occurred:\", e)\n",
        "    finally:\n",
        "        server.quit()\n",
        "\n",
        "if __name__ == \"__main__\":\n",
        "    send_email()\n"
      ]
    },
    {
      "cell_type": "code",
      "source": [],
      "metadata": {
        "id": "y-mhuyq9Dhp9"
      },
      "execution_count": null,
      "outputs": []
    }
  ]
}